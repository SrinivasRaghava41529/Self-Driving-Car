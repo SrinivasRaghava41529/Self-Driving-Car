{
 "cells": [
  {
   "cell_type": "code",
   "execution_count": 1,
   "id": "e9278aeb",
   "metadata": {},
   "outputs": [],
   "source": [
    "import os\n",
    "from itertools import islice\n",
    "import numpy as np\n",
    "from scipy import pi\n",
    "\n",
    "\n",
    "data_folder = './driving_dataset'\n",
    "train_file = os.path.join(data_folder , 'data.txt')\n",
    "limit = None\n",
    "\n",
    "split = 0.8\n",
    "x = []\n",
    "y =[]\n"
   ]
  },
  {
   "cell_type": "code",
   "execution_count": 2,
   "id": "2e89a695",
   "metadata": {},
   "outputs": [],
   "source": [
    "with open(train_file) as fp:\n",
    "    for line in islice(fp, limit):\n",
    "        path , angle = line.strip().split()\n",
    "        full_path = os.path.join(data_folder ,path)\n",
    "        x.append(full_path)\n",
    "        y.append(float(angle)*pi/180)\n",
    "\n",
    "y = np.array(y)"
   ]
  },
  {
   "cell_type": "code",
   "execution_count": 3,
   "id": "0e68f88b",
   "metadata": {},
   "outputs": [
    {
     "data": {
      "text/plain": [
       "array([0.        , 0.        , 0.        , ..., 0.03874631, 0.03874631,\n",
       "       0.        ])"
      ]
     },
     "execution_count": 3,
     "metadata": {},
     "output_type": "execute_result"
    }
   ],
   "source": [
    "y"
   ]
  },
  {
   "cell_type": "code",
   "execution_count": 5,
   "id": "35f71acd",
   "metadata": {},
   "outputs": [],
   "source": [
    "split_index = int(len(y)*0.8)"
   ]
  },
  {
   "cell_type": "code",
   "execution_count": 4,
   "id": "dab9468d",
   "metadata": {},
   "outputs": [
    {
     "data": {
      "text/plain": [
       "45406"
      ]
     },
     "execution_count": 4,
     "metadata": {},
     "output_type": "execute_result"
    }
   ],
   "source": [
    "len(y)"
   ]
  },
  {
   "cell_type": "code",
   "execution_count": 6,
   "id": "e7eb5f0e",
   "metadata": {},
   "outputs": [],
   "source": [
    "train_y = y[:split_index]\n",
    "test_y = y[split_index :]"
   ]
  },
  {
   "cell_type": "code",
   "execution_count": 7,
   "id": "7c15205c",
   "metadata": {},
   "outputs": [
    {
     "data": {
      "text/plain": [
       "(array([  26.,   12.,   23.,   23.,   16.,   25.,    7.,    4.,    7.,\n",
       "           3.,    3.,    5.,    4.,    4.,    4.,    5.,    5.,   17.,\n",
       "          18.,   21.,   67.,   41.,   17.,   19.,   15.,   15.,   16.,\n",
       "          24.,   25.,  152.,  280.,  126.,  325.,  759., 2609.,  944.,\n",
       "        1806.,  727.,  245.,  258.,  132.,   30.,   20.,   53.,   75.,\n",
       "          46.,    6.,    4.,    5.,    9.]),\n",
       " array([-2.79130507, -2.70985405, -2.62840302, -2.546952  , -2.46550097,\n",
       "        -2.38404995, -2.30259892, -2.22114789, -2.13969687, -2.05824584,\n",
       "        -1.97679482, -1.89534379, -1.81389277, -1.73244174, -1.65099072,\n",
       "        -1.56953969, -1.48808866, -1.40663764, -1.32518661, -1.24373559,\n",
       "        -1.16228456, -1.08083354, -0.99938251, -0.91793149, -0.83648046,\n",
       "        -0.75502943, -0.67357841, -0.59212738, -0.51067636, -0.42922533,\n",
       "        -0.34777431, -0.26632328, -0.18487226, -0.10342123, -0.0219702 ,\n",
       "         0.05948082,  0.14093185,  0.22238287,  0.3038339 ,  0.38528492,\n",
       "         0.46673595,  0.54818697,  0.629638  ,  0.71108903,  0.79254005,\n",
       "         0.87399108,  0.9554421 ,  1.03689313,  1.11834415,  1.19979518,\n",
       "         1.2812462 ]),\n",
       " [<matplotlib.patches.Polygon at 0x1bb69001df0>])"
      ]
     },
     "execution_count": 7,
     "metadata": {},
     "output_type": "execute_result"
    },
    {
     "data": {
      "image/png": "[encoded data removed]",
      "text/plain": [
       "<Figure size 432x288 with 1 Axes>"
      ]
     },
     "metadata": {
      "needs_background": "light"
     },
     "output_type": "display_data"
    }
   ],
   "source": [
    "import matplotlib.pyplot as plt\n",
    "plt.hist(train_y, bins = 50, color = 'red', histtype = 'step')\n",
    "plt.hist(test_y, bins = 50, color = 'green', histtype = 'step')"
   ]
  },
  {
   "cell_type": "code",
   "execution_count": 8,
   "id": "78a74abc",
   "metadata": {},
   "outputs": [],
   "source": [
    "train_mean_y = np.mean(train_y)"
   ]
  },
  {
   "cell_type": "code",
   "execution_count": 9,
   "id": "530d810a",
   "metadata": {},
   "outputs": [
    {
     "data": {
      "text/plain": [
       "0.0345988749016117"
      ]
     },
     "execution_count": 9,
     "metadata": {},
     "output_type": "execute_result"
    }
   ],
   "source": [
    "train_mean_y"
   ]
  },
  {
   "cell_type": "code",
   "execution_count": 10,
   "id": "6a896eb4",
   "metadata": {},
   "outputs": [
    {
     "data": {
      "text/plain": [
       "0.19112687369474946"
      ]
     },
     "execution_count": 10,
     "metadata": {},
     "output_type": "execute_result"
    }
   ],
   "source": [
    "np.mean(np.square(test_y - train_mean_y))"
   ]
  },
  {
   "cell_type": "code",
   "execution_count": 11,
   "id": "8605d238",
   "metadata": {},
   "outputs": [
    {
     "data": {
      "text/plain": [
       "0.19089104348993743"
      ]
     },
     "execution_count": 11,
     "metadata": {},
     "output_type": "execute_result"
    }
   ],
   "source": [
    "np.mean(np.square(test_y - 0))"
   ]
  },
  {
   "cell_type": "code",
   "execution_count": null,
   "id": "b4ec9118",
   "metadata": {},
   "outputs": [],
   "source": []
  }
 ],
 "metadata": {
  "kernelspec": {
   "display_name": "Python 3 (ipykernel)",
   "language": "python",
   "name": "python3"
  },
  "language_info": {
   "codemirror_mode": {
    "name": "ipython",
    "version": 3
   },
   "file_extension": ".py",
   "mimetype": "text/x-python",
   "name": "python",
   "nbconvert_exporter": "python",
   "pygments_lexer": "ipython3",
   "version": "3.9.4"
  },
  "vscode": {
   "interpreter": {
    "hash": "96926017e8f65a38abccf903ca450a295d1a20f7aaa682d7ed9b32e67eea1395"
   }
  }
 },
 "nbformat": 4,
 "nbformat_minor": 5
}
